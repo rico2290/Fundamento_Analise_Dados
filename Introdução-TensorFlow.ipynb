{
 "cells": [
  {
   "cell_type": "code",
   "execution_count": null,
   "metadata": {},
   "outputs": [],
   "source": [
    "from IPython.display import Image"
   ]
  },
  {
   "cell_type": "code",
   "execution_count": null,
   "metadata": {},
   "outputs": [],
   "source": [
    "import tensorflow.compat.v1 as tf\n",
    "tf.disable_v2_behavior()\n",
    "import numpy as np\n",
    "import matplotlib.pyplot as plt\n",
    "%matplotlib inline\n",
    "import random\n",
    "\n",
    "\n"
   ]
  },
  {
   "cell_type": "code",
   "execution_count": null,
   "metadata": {},
   "outputs": [],
   "source": [
    "Image(r'img/Deep Learning.PNG')"
   ]
  },
  {
   "cell_type": "markdown",
   "metadata": {},
   "source": [
    "### Hyperparâmetros do modelo"
   ]
  },
  {
   "cell_type": "code",
   "execution_count": null,
   "metadata": {},
   "outputs": [],
   "source": [
    "learning_rate = 0.01\n",
    "training_epochs = 2000\n",
    "display_step = 200"
   ]
  },
  {
   "cell_type": "code",
   "execution_count": null,
   "metadata": {},
   "outputs": [],
   "source": [
    "#Dataset de treino\n",
    "train_x = np.asarray(np.arange(3.3,30,1.11 ))\n",
    "train_y = np.asarray(np.arange(1.7,30,1.3 ))\n",
    "n_sample = train_x.shape[0]"
   ]
  },
  {
   "cell_type": "code",
   "execution_count": null,
   "metadata": {},
   "outputs": [],
   "source": [
    "#print(train_x)\n",
    "#print(train_y)\n",
    "#dataset de teste\n",
    "test_x  = np.asarray(np.arange(6.01,15,1.2))\n",
    "test_y  = np.asarray(np.arange(1.01,15,1.2))\n",
    "#print(test_x, test_y)"
   ]
  },
  {
   "cell_type": "markdown",
   "metadata": {},
   "source": [
    "### Placeholders e variáveis"
   ]
  },
  {
   "cell_type": "code",
   "execution_count": null,
   "metadata": {},
   "outputs": [],
   "source": [
    "x = tf.placeholder(tf.float32)\n",
    "y = tf.placeholder(tf.float32)\n",
    "\n",
    "#Pesos e bias do modelo\n",
    "w = tf.Variable(np.random.randn(), name='weigth')\n",
    "b = tf.Variable(np.random.randn(), name='bias')"
   ]
  },
  {
   "cell_type": "markdown",
   "metadata": {},
   "source": [
    "### Construindo o modelo"
   ]
  },
  {
   "cell_type": "code",
   "execution_count": null,
   "metadata": {},
   "outputs": [],
   "source": [
    "#Formula do modelo linear: y = w*x +b\n",
    "linear_model = w*x + b\n",
    "\n",
    "#Mean Squared Error (Erro Quadrático Medio)\n",
    "cost  = tf.reduce_sum(tf.square(linear_model - y))/ (2*n_sample)\n",
    "\n",
    "#Otimização com Gradient Descent\n",
    "optimizer = tf.train.GradientDescentOptimizer(learning_rate).minimize(cost)\n",
    "print(optimizer)"
   ]
  },
  {
   "cell_type": "code",
   "execution_count": null,
   "metadata": {},
   "outputs": [],
   "source": [
    "#Definindo a inicialização das variáveis\n",
    "init = tf.global_variables_initializer()\n",
    "\n",
    "#iniciando sessão\n",
    "with tf.Session() as s:\n",
    "    s.run(init)\n",
    "    \n",
    "    #Treinando o modelo\n",
    "    for epoch in range(training_epochs):\n",
    "        \n",
    "        #otimizar c/ Gradient descent\n",
    "        s.run(optimizer, feed_dict={x: train_x, y: train_y})\n",
    "        \n",
    "        #display de cada epoch\n",
    "        if(epoch+1) % display_step == 0:\n",
    "            c = s.run(cost, feed_dict={x: train_x, y: train_y})\n",
    "            print('Epoch: {0:6}\\t Cost: {1:10.4} \\t W:{2:6.4} \\t b:{3:6.4}'.format(epoch+1, c, s.run(w), s.run(b)))\n",
    "            \n",
    "    print('\\nOtimização Concluída')\n",
    "    training_cost = s.run(cost, feed_dict={x: train_x, y: train_y})\n",
    "    print('Custo Final de Treinamento: {} -W Final: {} - b Final: {}'.format(training_cost, s.run(w), s.run(b)))\n",
    "    \n",
    "    #Visualização do resultado\n",
    "    plt.plot(train_x, train_y, 'ro', label='Dados Originais')\n",
    "    plt.plot(train_x, s.run(w)*train_x + s.run(b),label='Linha de Regressão')\n",
    "    plt.legend()\n",
    "    plt.show()\n",
    "    \n",
    "    #Testando o modelo\n",
    "    testing_cost = s.run(tf.reduce_sum(tf.square(linear_model - y)) / (2*test_x.shape[0]), feed_dict={x:test_x, y: test_y})\n",
    "    print('Custo Final em Teste: ', testing_cost)\n",
    "    print('Diferença Média Quadratica Absoluta: ', abs(training_cost - testing_cost))\n",
    "    \n",
    "    #display em Teste\n",
    "    plt.plot(test_x, test_y, 'bo', label='Dados Teste')\n",
    "    plt.plot(train_x, s.run(w) * train_x + s.run(b), label='Linha de Regressão')\n",
    "    plt.legend()\n",
    "    plt.show()\n",
    "s.close()\n",
    "    "
   ]
  },
  {
   "cell_type": "code",
   "execution_count": null,
   "metadata": {},
   "outputs": [],
   "source": []
  }
 ],
 "metadata": {
  "kernelspec": {
   "display_name": "Python 3",
   "language": "python",
   "name": "python3"
  },
  "language_info": {
   "codemirror_mode": {
    "name": "ipython",
    "version": 3
   },
   "file_extension": ".py",
   "mimetype": "text/x-python",
   "name": "python",
   "nbconvert_exporter": "python",
   "pygments_lexer": "ipython3",
   "version": "3.7.4"
  }
 },
 "nbformat": 4,
 "nbformat_minor": 2
}
