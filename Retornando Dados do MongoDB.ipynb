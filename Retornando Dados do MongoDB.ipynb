{
 "cells": [
  {
   "cell_type": "code",
   "execution_count": 2,
   "metadata": {},
   "outputs": [
    {
     "name": "stdout",
     "output_type": "stream",
     "text": [
      "Requirement already satisfied: pymongo in c:\\users\\102869\\python3.7-64\\lib\\site-packages (3.10.0)\n"
     ]
    }
   ],
   "source": [
    "!pip install pymongo"
   ]
  },
  {
   "cell_type": "code",
   "execution_count": 3,
   "metadata": {},
   "outputs": [],
   "source": [
    "#importando o módulo pymongo\n",
    "import pymongo"
   ]
  },
  {
   "cell_type": "code",
   "execution_count": 4,
   "metadata": {},
   "outputs": [],
   "source": [
    "con = pymongo.MongoClient()"
   ]
  },
  {
   "cell_type": "code",
   "execution_count": 9,
   "metadata": {},
   "outputs": [
    {
     "data": {
      "text/plain": [
       "['admin', 'cadastrodb', 'config', 'local']"
      ]
     },
     "execution_count": 9,
     "metadata": {},
     "output_type": "execute_result"
    }
   ],
   "source": [
    "#listando os banco de dados siponiveis\n",
    "con.list_database_names()"
   ]
  },
  {
   "cell_type": "code",
   "execution_count": 6,
   "metadata": {},
   "outputs": [],
   "source": [
    "# criar o objeto db\n",
    "db = con.cadastrodb"
   ]
  },
  {
   "cell_type": "code",
   "execution_count": 10,
   "metadata": {},
   "outputs": [
    {
     "data": {
      "text/plain": [
       "['post1', 'newCollection', 'posts']"
      ]
     },
     "execution_count": 10,
     "metadata": {},
     "output_type": "execute_result"
    }
   ],
   "source": [
    "#listas coleções disponiveis\n",
    "db.list_collection_names()"
   ]
  },
  {
   "cell_type": "code",
   "execution_count": 8,
   "metadata": {},
   "outputs": [
    {
     "data": {
      "text/plain": [
       "Collection(Database(MongoClient(host=['localhost:27017'], document_class=dict, tz_aware=False, connect=True), 'cadastrodb'), 'newCollection')"
      ]
     },
     "execution_count": 8,
     "metadata": {},
     "output_type": "execute_result"
    }
   ],
   "source": [
    "db.create_collection(\"newCollection\")"
   ]
  },
  {
   "cell_type": "code",
   "execution_count": 12,
   "metadata": {},
   "outputs": [
    {
     "data": {
      "text/plain": [
       "<pymongo.results.InsertOneResult at 0x1cc9be5ef88>"
      ]
     },
     "execution_count": 12,
     "metadata": {},
     "output_type": "execute_result"
    }
   ],
   "source": [
    "#Inserindo um documento na coleção criada\n",
    "db.newCollection.insert_one({\n",
    "    \"titulo\": \"MongoDb com Python\",\n",
    "    \"descricao\": \"MongoDB é um banco de dados NoSQL (nao relacional)\",\n",
    "    \"by\": \"rico90\",\n",
    "    \"url\": \"https://github.com/rico2290\",\n",
    "    \"tags\": [\"mongodb\", \"database\", \"NoSQL\"],\n",
    "    \"likes\": 1000\n",
    "})"
   ]
  },
  {
   "cell_type": "code",
   "execution_count": 13,
   "metadata": {},
   "outputs": [
    {
     "data": {
      "text/plain": [
       "{'_id': ObjectId('5df8fd63505300e46ba37c56'),\n",
       " 'titulo': 'MongoDb com Python',\n",
       " 'descricao': 'MongoDB é um banco de dados NoSQL (nao relacional)',\n",
       " 'by': 'rico90',\n",
       " 'url': 'https://github.com/rico2290',\n",
       " 'tags': ['mongodb', 'database', 'NoSQL'],\n",
       " 'likes': 1000}"
      ]
     },
     "execution_count": 13,
     "metadata": {},
     "output_type": "execute_result"
    }
   ],
   "source": [
    "#retornando o documento criado\n",
    "db.newCollection.find_one()"
   ]
  },
  {
   "cell_type": "code",
   "execution_count": 14,
   "metadata": {},
   "outputs": [],
   "source": [
    "#preparando um documento\n",
    "doc1 = {\"Nome\": \"Lula\", \"Sobrenome\": \"da Silva\", \"page\": \"lula.com.br\"}\n",
    "doc2 = {\"Nome\": \"Jair\", \"Sobrenome\": \"Bolsonaro\", \"page\": \"www.bolsonaro.com.br\"}"
   ]
  },
  {
   "cell_type": "code",
   "execution_count": 15,
   "metadata": {},
   "outputs": [
    {
     "data": {
      "text/plain": [
       "<pymongo.results.InsertOneResult at 0x1cc9beb4fc8>"
      ]
     },
     "execution_count": 15,
     "metadata": {},
     "output_type": "execute_result"
    }
   ],
   "source": [
    "db.newCollection.insert_one(doc1)\n",
    "db.newCollection.insert_one(doc2)"
   ]
  },
  {
   "cell_type": "code",
   "execution_count": 16,
   "metadata": {},
   "outputs": [
    {
     "name": "stdout",
     "output_type": "stream",
     "text": [
      "{'_id': ObjectId('5df8fd63505300e46ba37c56'), 'titulo': 'MongoDb com Python', 'descricao': 'MongoDB é um banco de dados NoSQL (nao relacional)', 'by': 'rico90', 'url': 'https://github.com/rico2290', 'tags': ['mongodb', 'database', 'NoSQL'], 'likes': 1000}\n",
      "{'_id': ObjectId('5df8fe85505300e46ba37c57'), 'Nome': 'Lula', 'Sobrenome': 'da Silva', 'page': 'lula.com.br'}\n",
      "{'_id': ObjectId('5df8fe85505300e46ba37c58'), 'Nome': 'Jair', 'Sobrenome': 'Bolsonaro', 'page': 'www.bolsonaro.com.br'}\n"
     ]
    }
   ],
   "source": [
    "for rec in db.newCollection.find():\n",
    "    print(rec)"
   ]
  },
  {
   "cell_type": "code",
   "execution_count": 17,
   "metadata": {},
   "outputs": [],
   "source": [
    "#conectando a uma coleção\n",
    "col = db[\"newCollection\"]"
   ]
  },
  {
   "cell_type": "code",
   "execution_count": 19,
   "metadata": {},
   "outputs": [
    {
     "data": {
      "text/plain": [
       "3"
      ]
     },
     "execution_count": 19,
     "metadata": {},
     "output_type": "execute_result"
    }
   ],
   "source": [
    "col.estimated_document_count()"
   ]
  },
  {
   "cell_type": "code",
   "execution_count": 22,
   "metadata": {},
   "outputs": [],
   "source": [
    "#encontrar um unico documento (o primeiro documento inserido)\n",
    "findoc = col.find_one()"
   ]
  },
  {
   "cell_type": "code",
   "execution_count": 23,
   "metadata": {},
   "outputs": [
    {
     "data": {
      "text/plain": [
       "{'_id': ObjectId('5df8fd63505300e46ba37c56'),\n",
       " 'titulo': 'MongoDb com Python',\n",
       " 'descricao': 'MongoDB é um banco de dados NoSQL (nao relacional)',\n",
       " 'by': 'rico90',\n",
       " 'url': 'https://github.com/rico2290',\n",
       " 'tags': ['mongodb', 'database', 'NoSQL'],\n",
       " 'likes': 1000}"
      ]
     },
     "execution_count": 23,
     "metadata": {},
     "output_type": "execute_result"
    }
   ],
   "source": [
    "findoc"
   ]
  },
  {
   "cell_type": "code",
   "execution_count": null,
   "metadata": {},
   "outputs": [],
   "source": []
  }
 ],
 "metadata": {
  "kernelspec": {
   "display_name": "Python 3",
   "language": "python",
   "name": "python3"
  },
  "language_info": {
   "codemirror_mode": {
    "name": "ipython",
    "version": 3
   },
   "file_extension": ".py",
   "mimetype": "text/x-python",
   "name": "python",
   "nbconvert_exporter": "python",
   "pygments_lexer": "ipython3",
   "version": "3.7.4"
  }
 },
 "nbformat": 4,
 "nbformat_minor": 2
}
